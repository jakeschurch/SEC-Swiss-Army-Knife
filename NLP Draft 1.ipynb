{
 "cells": [
  {
   "cell_type": "markdown",
   "metadata": {},
   "source": [
    "NLP Draft 1:\n",
    "\n",
    "Read in the 10-K filing as a .txt. Tokenzie the txt by word. Create a df of each token, and their count in the txt. Merge this DF with the Loughran and McDonald Master Dictionary of financial words word in Master Dictionary. By doing this we create a new DateFrame object that only includes words that appeared in both the filing and the Loughran and McDonald Master Dictionary (ie, words that have some sentiment rating). \n",
    "\n",
    "Much of this analysis is based on research conducted by Tim Loughran and Bill McDonald's 2011 Paper \"When is a Liability not a Liability\". Their research concluded that almost three-fourths of the words identified as negative by traditional lexicons are words typically not considered negative in financial contexts. Thus, it is important we use a financial dictionary such as theirs.\n",
    "\n",
    "For the sentiment analysis portion of this portion, I decided to follow a path similar to Andreas Chouliaras'. His research in \"The Pessimism Factor: SEC EDGAR Form 10-K Textual Analysis and Stock Returns\" provides the formula I use to measure sentiment. After analyzing 20,000 annual filings he found that comparing (pessimism percentage) change across periods lead to insight on future stock performance. Chouliaras measure sentiment using the difference between the percentage of words in a text with negative sentiment and the percentage of words in a text with positive sentiment. "
   ]
  },
  {
   "cell_type": "code",
   "execution_count": 60,
   "metadata": {
    "collapsed": true
   },
   "outputs": [],
   "source": [
    "import nltk\n",
    "from nltk.corpus import stopwords\n",
    "import pandas as pd\n",
    "import numpy as np\n",
    "from itertools import groupby\n",
    "import matplotlib.pyplot as plt\n",
    "%matplotlib inline\n",
    "from nltk import word_tokenize"
   ]
  },
  {
   "cell_type": "code",
   "execution_count": 26,
   "metadata": {
    "collapsed": true
   },
   "outputs": [],
   "source": [
    "# This is the 10-K Lexicon that we need\n",
    "wordDict = pd.read_csv('LoughranMcDonald_MasterDictionary_2014.csv')"
   ]
  },
  {
   "cell_type": "code",
   "execution_count": 27,
   "metadata": {},
   "outputs": [],
   "source": [
    "# There are a lot of columns that we don't use. For this analysis we will only use words with a positive or negative rating.\n",
    "wordDict = wordDict[['Word', 'Negative', 'Positive']]"
   ]
  },
  {
   "cell_type": "code",
   "execution_count": 28,
   "metadata": {
    "collapsed": true
   },
   "outputs": [],
   "source": [
    "filing = open('Sample 10-k.txt', encoding='utf8') # This is the string version."
   ]
  },
  {
   "cell_type": "code",
   "execution_count": 29,
   "metadata": {
    "collapsed": true
   },
   "outputs": [],
   "source": [
    "filing = filing.read()"
   ]
  },
  {
   "cell_type": "code",
   "execution_count": 30,
   "metadata": {
    "collapsed": true
   },
   "outputs": [],
   "source": [
    "x = word_tokenize(filing) # Okay, now we have a list of each word..."
   ]
  },
  {
   "cell_type": "code",
   "execution_count": 67,
   "metadata": {},
   "outputs": [
    {
     "name": "stdout",
     "output_type": "stream",
     "text": [
      "57019\n",
      "41165\n",
      "Removed 15854 stop words!\n"
     ]
    }
   ],
   "source": [
    "filtered_words = [word for word in x if word not in stopwords.words('english')]\n",
    "print(\"Before removing stop words: \", len(x))\n",
    "print(\"After removing stop words: \", len(filtered_words))\n",
    "\n",
    "print(\"Removed\", (len(x) - len(filtered_words)), \"stop words!\")\n",
    "# We only need to remove the stop words for calculating our pessimism level.\n",
    "numWords = len(filtered_words)"
   ]
  },
  {
   "cell_type": "code",
   "execution_count": 31,
   "metadata": {
    "collapsed": true
   },
   "outputs": [],
   "source": [
    "x.sort() # Okay, now we are sorted"
   ]
  },
  {
   "cell_type": "code",
   "execution_count": 41,
   "metadata": {
    "collapsed": true
   },
   "outputs": [],
   "source": [
    "# counts is a list of the counts of each element of x (only when x is sorted!)\n",
    "counts = [len(list(group)) for key, group in groupby(x)]"
   ]
  },
  {
   "cell_type": "code",
   "execution_count": 42,
   "metadata": {
    "collapsed": true
   },
   "outputs": [],
   "source": [
    "s = set(x)"
   ]
  },
  {
   "cell_type": "code",
   "execution_count": 43,
   "metadata": {
    "collapsed": true
   },
   "outputs": [],
   "source": [
    "s = sorted(s)"
   ]
  },
  {
   "cell_type": "code",
   "execution_count": 44,
   "metadata": {
    "collapsed": true
   },
   "outputs": [],
   "source": [
    "# create a df of each word (token) and the number of times it appears\n",
    "filedf = pd.DataFrame(data = [s, counts])\n",
    "filedf = filedf.T # we have to Transpose\n",
    "filedf.columns = ['Word', 'count']"
   ]
  },
  {
   "cell_type": "code",
   "execution_count": 45,
   "metadata": {
    "collapsed": true
   },
   "outputs": [],
   "source": [
    "# merge the wordDict and filedf so we only have a df of the words that appear in our lexicon\n",
    "df = pd.merge(wordDict, filedf, on = 'Word')"
   ]
  },
  {
   "cell_type": "code",
   "execution_count": 46,
   "metadata": {},
   "outputs": [
    {
     "data": {
      "text/html": [
       "<div>\n",
       "<style>\n",
       "    .dataframe thead tr:only-child th {\n",
       "        text-align: right;\n",
       "    }\n",
       "\n",
       "    .dataframe thead th {\n",
       "        text-align: left;\n",
       "    }\n",
       "\n",
       "    .dataframe tbody tr th {\n",
       "        vertical-align: top;\n",
       "    }\n",
       "</style>\n",
       "<table border=\"1\" class=\"dataframe\">\n",
       "  <thead>\n",
       "    <tr style=\"text-align: right;\">\n",
       "      <th></th>\n",
       "      <th>Word</th>\n",
       "      <th>Negative</th>\n",
       "      <th>Positive</th>\n",
       "      <th>count</th>\n",
       "    </tr>\n",
       "  </thead>\n",
       "  <tbody>\n",
       "    <tr>\n",
       "      <th>0</th>\n",
       "      <td>ability</td>\n",
       "      <td>0</td>\n",
       "      <td>0</td>\n",
       "      <td>38</td>\n",
       "    </tr>\n",
       "    <tr>\n",
       "      <th>1</th>\n",
       "      <td>able</td>\n",
       "      <td>0</td>\n",
       "      <td>2009</td>\n",
       "      <td>15</td>\n",
       "    </tr>\n",
       "    <tr>\n",
       "      <th>2</th>\n",
       "      <td>about</td>\n",
       "      <td>0</td>\n",
       "      <td>0</td>\n",
       "      <td>15</td>\n",
       "    </tr>\n",
       "    <tr>\n",
       "      <th>3</th>\n",
       "      <td>above</td>\n",
       "      <td>0</td>\n",
       "      <td>0</td>\n",
       "      <td>9</td>\n",
       "    </tr>\n",
       "    <tr>\n",
       "      <th>4</th>\n",
       "      <td>abroad</td>\n",
       "      <td>0</td>\n",
       "      <td>0</td>\n",
       "      <td>1</td>\n",
       "    </tr>\n",
       "  </tbody>\n",
       "</table>\n",
       "</div>"
      ],
      "text/plain": [
       "      Word  Negative  Positive count\n",
       "0  ability         0         0    38\n",
       "1     able         0      2009    15\n",
       "2    about         0         0    15\n",
       "3    above         0         0     9\n",
       "4   abroad         0         0     1"
      ]
     },
     "execution_count": 46,
     "metadata": {},
     "output_type": "execute_result"
    }
   ],
   "source": [
    "df.head()"
   ]
  },
  {
   "cell_type": "markdown",
   "metadata": {},
   "source": [
    "Things are looking better, but we still have values in our DF with no sentiment value... IE 'and'."
   ]
  },
  {
   "cell_type": "code",
   "execution_count": 47,
   "metadata": {},
   "outputs": [],
   "source": [
    "df = df[(df['Positive'] + df['Negative'] >= 1)]"
   ]
  },
  {
   "cell_type": "code",
   "execution_count": 48,
   "metadata": {},
   "outputs": [],
   "source": [
    "# According to the Master Dictionary, sentiment ratings values are the year in which the word was added to the dictionary...\n",
    "df.loc[df['Negative'] != 0, 'Negative'] = 1\n",
    "df.loc[df['Positive'] != 0, 'Positive'] = 1"
   ]
  },
  {
   "cell_type": "code",
   "execution_count": 49,
   "metadata": {},
   "outputs": [
    {
     "data": {
      "text/plain": [
       "<matplotlib.axes._subplots.AxesSubplot at 0x1ca817ca668>"
      ]
     },
     "execution_count": 49,
     "metadata": {},
     "output_type": "execute_result"
    },
    {
     "data": {
      "image/png": "[encoded data removed]",
      "text/plain": [
       "<matplotlib.figure.Figure at 0x1ca817caa90>"
      ]
     },
     "metadata": {},
     "output_type": "display_data"
    }
   ],
   "source": [
    "# sentiment words and their frquency\n",
    "df.plot(x='Word',y='count', figsize=(20, 5))"
   ]
  },
  {
   "cell_type": "code",
   "execution_count": 50,
   "metadata": {},
   "outputs": [
    {
     "data": {
      "text/plain": [
       "78"
      ]
     },
     "execution_count": 50,
     "metadata": {},
     "output_type": "execute_result"
    }
   ],
   "source": [
    "df['count'].max()"
   ]
  },
  {
   "cell_type": "code",
   "execution_count": 51,
   "metadata": {},
   "outputs": [
    {
     "data": {
      "text/html": [
       "<div>\n",
       "<style>\n",
       "    .dataframe thead tr:only-child th {\n",
       "        text-align: right;\n",
       "    }\n",
       "\n",
       "    .dataframe thead th {\n",
       "        text-align: left;\n",
       "    }\n",
       "\n",
       "    .dataframe tbody tr th {\n",
       "        vertical-align: top;\n",
       "    }\n",
       "</style>\n",
       "<table border=\"1\" class=\"dataframe\">\n",
       "  <thead>\n",
       "    <tr style=\"text-align: right;\">\n",
       "      <th></th>\n",
       "      <th>Word</th>\n",
       "      <th>Negative</th>\n",
       "      <th>Positive</th>\n",
       "      <th>count</th>\n",
       "    </tr>\n",
       "  </thead>\n",
       "  <tbody>\n",
       "    <tr>\n",
       "      <th>1590</th>\n",
       "      <td>loss</td>\n",
       "      <td>1</td>\n",
       "      <td>0</td>\n",
       "      <td>78</td>\n",
       "    </tr>\n",
       "  </tbody>\n",
       "</table>\n",
       "</div>"
      ],
      "text/plain": [
       "      Word  Negative  Positive count\n",
       "1590  loss         1         0    78"
      ]
     },
     "execution_count": 51,
     "metadata": {},
     "output_type": "execute_result"
    }
   ],
   "source": [
    "df[(df['count'] == 78)]\n",
    "# The most common word is 'loss' which appeared 78 times."
   ]
  },
  {
   "cell_type": "code",
   "execution_count": 68,
   "metadata": {},
   "outputs": [],
   "source": [
    "negCount = df[(df['Negative'] == 1)]['count'].sum()\n",
    "posCount = df[(df['Positive'] == 1)]['count'].sum()"
   ]
  },
  {
   "cell_type": "code",
   "execution_count": 74,
   "metadata": {},
   "outputs": [
    {
     "name": "stdout",
     "output_type": "stream",
     "text": [
      "Pessimism:  1.34 %\n"
     ]
    }
   ],
   "source": [
    "negPerc = negCount / numWords\n",
    "posPerc = posCount / numWords\n",
    "pessimism = (round(negPerc - posPerc, 4)) * 100\n",
    "print(\"Pessimism: \", pessimism,\"%\")"
   ]
  },
  {
   "cell_type": "markdown",
   "metadata": {},
   "source": [
    "Based on Chouliaras' Reserach, the average 10-K has 0.7% positive words, 1.4% negative words, which means an average pessimism of 0.7%.\n",
    "Here, the Pessimism is much higher...\n",
    "\n",
    "My sentiment rating is actually lower than average because I have not removed all the non word symbols (eg, numbers, '%' '$')."
   ]
  },
  {
   "cell_type": "code",
   "execution_count": null,
   "metadata": {
    "collapsed": true
   },
   "outputs": [],
   "source": []
  }
 ],
 "metadata": {
  "kernelspec": {
   "display_name": "Python 3",
   "language": "python",
   "name": "python3"
  },
  "language_info": {
   "codemirror_mode": {
    "name": "ipython",
    "version": 3
   },
   "file_extension": ".py",
   "mimetype": "text/x-python",
   "name": "python",
   "nbconvert_exporter": "python",
   "pygments_lexer": "ipython3",
   "version": "3.6.1"
  }
 },
 "nbformat": 4,
 "nbformat_minor": 2
}
